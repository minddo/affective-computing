{
  "nbformat": 4,
  "nbformat_minor": 0,
  "metadata": {
    "colab": {
      "name": "1. DEAP_Preprocessing.ipynb",
      "provenance": [],
      "collapsed_sections": [],
      "toc_visible": true,
      "authorship_tag": "ABX9TyMhldZT7xoos/hniqDH6Zt4",
      "include_colab_link": true
    },
    "kernelspec": {
      "name": "python3",
      "display_name": "Python 3"
    },
    "accelerator": "GPU"
  },
  "cells": [
    {
      "cell_type": "markdown",
      "metadata": {
        "id": "view-in-github",
        "colab_type": "text"
      },
      "source": [
        "<a href=\"https://colab.research.google.com/github/minddo/affective-computing/blob/master/1_DEAP_Preprocessing.ipynb\" target=\"_parent\"><img src=\"https://colab.research.google.com/assets/colab-badge.svg\" alt=\"Open In Colab\"/></a>"
      ]
    },
    {
      "cell_type": "markdown",
      "metadata": {
        "id": "NvUlOttxEl-o",
        "colab_type": "text"
      },
      "source": [
        "# Connect to G-drive"
      ]
    },
    {
      "cell_type": "code",
      "metadata": {
        "id": "nAAuK_85DyHR",
        "colab_type": "code",
        "colab": {
          "base_uri": "https://localhost:8080/",
          "height": 122
        },
        "outputId": "4ae2d0f5-218d-42bb-f27d-cc7666f2eb42"
      },
      "source": [
        "# mount google drive \n",
        "from google.colab import drive\n",
        "drive.mount('/content/drive')"
      ],
      "execution_count": null,
      "outputs": [
        {
          "output_type": "stream",
          "text": [
            "Go to this URL in a browser: https://accounts.google.com/o/oauth2/auth?client_id=947318989803-6bn6qk8qdgf4n4g3pfee6491hc0brc4i.apps.googleusercontent.com&redirect_uri=urn%3aietf%3awg%3aoauth%3a2.0%3aoob&scope=email%20https%3a%2f%2fwww.googleapis.com%2fauth%2fdocs.test%20https%3a%2f%2fwww.googleapis.com%2fauth%2fdrive%20https%3a%2f%2fwww.googleapis.com%2fauth%2fdrive.photos.readonly%20https%3a%2f%2fwww.googleapis.com%2fauth%2fpeopleapi.readonly&response_type=code\n",
            "\n",
            "Enter your authorization code:\n",
            "··········\n",
            "Mounted at /content/drive\n"
          ],
          "name": "stdout"
        }
      ]
    },
    {
      "cell_type": "markdown",
      "metadata": {
        "id": "TrixX4i5Eyt4",
        "colab_type": "text"
      },
      "source": [
        "# Get participansts' files\n"
      ]
    },
    {
      "cell_type": "code",
      "metadata": {
        "id": "x_iTIVF8E4U6",
        "colab_type": "code",
        "colab": {}
      },
      "source": [
        "import os\n",
        "\n",
        "path='/content/drive/My Drive/DEAP/data_preprocessed_python'\n",
        "file_list=os.listdir(path)"
      ],
      "execution_count": null,
      "outputs": []
    },
    {
      "cell_type": "markdown",
      "metadata": {
        "id": "ItpM2mevFnDJ",
        "colab_type": "text"
      },
      "source": [
        "# Prepare dataset"
      ]
    },
    {
      "cell_type": "code",
      "metadata": {
        "id": "0gxNNhdtGqf_",
        "colab_type": "code",
        "colab": {}
      },
      "source": [
        "def row_high(x):\n",
        "    if x>=5:\n",
        "        return 1\n",
        "    else:\n",
        "        return 0"
      ],
      "execution_count": null,
      "outputs": []
    },
    {
      "cell_type": "code",
      "metadata": {
        "id": "d9-MjJAqGwe8",
        "colab_type": "code",
        "colab": {}
      },
      "source": [
        "def min_max_norm_G(x):\n",
        "    return (x-MIN_G)/(MAX_G-MIN_G)\n",
        "\n",
        "def min_max_norm_T(x):\n",
        "    return (x-MIN_T)/(MAX_T-MIN_T)\n",
        "\n",
        "def min_max_norm_P(x):\n",
        "    return (x-MIN_P)/(MAX_P-MIN_P)"
      ],
      "execution_count": null,
      "outputs": []
    },
    {
      "cell_type": "markdown",
      "metadata": {
        "id": "4bS_UPkiPEoB",
        "colab_type": "text"
      },
      "source": [
        "## Preprocessing"
      ]
    },
    {
      "cell_type": "markdown",
      "metadata": {
        "id": "vglvC1-LPII1",
        "colab_type": "text"
      },
      "source": [
        "In this block I chose GSR, PPG and TEMP signal and normalized them. and In case of label, I chose arousal and valence and converted them to cateogorical data"
      ]
    },
    {
      "cell_type": "code",
      "metadata": {
        "id": "dfH6zR5AGUk9",
        "colab_type": "code",
        "colab": {
          "base_uri": "https://localhost:8080/",
          "height": 561
        },
        "outputId": "3f16a29d-36aa-45a1-d339-23bdf7cac0a9"
      },
      "source": [
        "import pickle\n",
        "import pandas as pd\n",
        "import numpy as np\n",
        "\n",
        "from keras.utils import to_categorical\n",
        "for file in file_list:\n",
        "    print(file)\n",
        "    df = pickle.load(open('/content/drive/My Drive/DEAP/data_preprocessed_python/'+file, 'rb'), encoding='iso-8859-1')\n",
        "    data=df['data'][:,[36,38,39],:]\n",
        "    labels=df['labels'][:,[0,1]]\n",
        "    labels=pd.DataFrame(labels, columns=['valence', 'arousal'])\n",
        "    labels=labels.applymap(row_high)\n",
        "\n",
        "    GSR=data[:,0,:]\n",
        "    PPG=data[:,1,:]\n",
        "    TEMP=data[:,2,:]\n",
        "\n",
        "    MAX_G=GSR.max().max()\n",
        "    MIN_G=GSR.min().min()\n",
        "\n",
        "    MAX_T=TEMP.max().max()\n",
        "    MIN_T=TEMP.min().min()\n",
        "\n",
        "    MAX_P=PPG.max().max()\n",
        "    MIN_P=PPG.min().min()\n",
        "\n",
        "\n",
        "    #normalize\n",
        "    GSR_scaled=pd.DataFrame(GSR).applymap(min_max_norm_G)\n",
        "    TEMP_scaled=pd.DataFrame(TEMP).applymap(min_max_norm_T)\n",
        "    PPG_scaled=pd.DataFrame(PPG).applymap(min_max_norm_P)\n",
        "\n",
        "\n",
        "    #reshape\n",
        "    GSR_scaled=np.array(GSR_scaled)\n",
        "    TEMP_scaled=np.array(TEMP_scaled)\n",
        "    PPG_scaled=np.array(PPG_scaled)\n",
        "\n",
        "    X_GSR=GSR_scaled.reshape(40,63,128)\n",
        "    X_GSR=X_GSR[:,3:,:]\n",
        "    X_GSR=X_GSR.reshape(240,10,128)\n",
        "\n",
        "    X_TEMP=TEMP_scaled.reshape(40,63,128)\n",
        "    X_TEMP=X_TEMP[:,3:,:]\n",
        "    X_TEMP=X_TEMP.reshape(240,10,128)\n",
        "\n",
        "    X_PPG=PPG_scaled.reshape(40,63,128)\n",
        "    X_PPG=X_PPG[:,3:,:]\n",
        "    X_PPG=X_PPG.reshape(240,10,128)\n",
        "\n",
        "\n",
        "    VAL=labels['valence']\n",
        "    Y_VAL=np.array(pd.concat([VAL,VAL,VAL,VAL,VAL,VAL], axis=1)).reshape(240,)\n",
        "    Y_VAL=to_categorical(Y_VAL)\n",
        "\n",
        "    AR=labels['arousal']\n",
        "    Y_AR=np.array(pd.concat([AR,AR,AR,AR,AR,AR], axis=1)).reshape(240,)\n",
        "    Y_AR=to_categorical(Y_AR)\n",
        "\n",
        "    dataset={\"data\": {\"GSR\":X_GSR, \"TEMP\":X_TEMP, \"PPG\": X_PPG}, \"labels\": {\"arousal\": Y_AR, \"valence\": Y_VAL}}\n",
        "\n",
        "    f = open(\"/content/drive/My Drive/DEAP/preprocessed_data/\"+file.split('.')[0]+\".pkl\",\"wb\")\n",
        "    pickle.dump(dataset,f)\n",
        "    f.close()"
      ],
      "execution_count": null,
      "outputs": [
        {
          "output_type": "stream",
          "text": [
            "s01.dat\n",
            "s02.dat\n",
            "s03.dat\n",
            "s04.dat\n",
            "s05.dat\n",
            "s06.dat\n",
            "s07.dat\n",
            "s08.dat\n",
            "s09.dat\n",
            "s10.dat\n",
            "s11.dat\n",
            "s12.dat\n",
            "s13.dat\n",
            "s14.dat\n",
            "s15.dat\n",
            "s16.dat\n",
            "s17.dat\n",
            "s18.dat\n",
            "s19.dat\n",
            "s20.dat\n",
            "s21.dat\n",
            "s22.dat\n",
            "s23.dat\n",
            "s24.dat\n",
            "s25.dat\n",
            "s26.dat\n",
            "s27.dat\n",
            "s28.dat\n",
            "s29.dat\n",
            "s30.dat\n",
            "s31.dat\n",
            "s32.dat\n"
          ],
          "name": "stdout"
        }
      ]
    },
    {
      "cell_type": "markdown",
      "metadata": {
        "id": "-CEa3h0LPfFN",
        "colab_type": "text"
      },
      "source": [
        "After data preprocessing, I aggregate all data into one dictionary"
      ]
    },
    {
      "cell_type": "code",
      "metadata": {
        "id": "5uWHLSPhOofs",
        "colab_type": "code",
        "colab": {
          "base_uri": "https://localhost:8080/",
          "height": 561
        },
        "outputId": "7368b6ef-d8d2-4088-cea8-fdc838e9a1ed"
      },
      "source": [
        "path='/content/drive/My Drive/DEAP/preprocessed_data/'\n",
        "file_list=os.listdir(path)\n",
        "dataset={}\n",
        "for file in file_list:\n",
        "    print(file)\n",
        "    df = pickle.load(open(path+file, 'rb'), encoding='iso-8859-1')\n",
        "    dataset[file.split('.')[0]]=df\n",
        "f = open(\"/content/drive/My Drive/DEAP/dataset.pkl\",\"wb\")\n",
        "pickle.dump(dataset,f)\n",
        "f.close()"
      ],
      "execution_count": null,
      "outputs": [
        {
          "output_type": "stream",
          "text": [
            "s01.pkl\n",
            "s02.pkl\n",
            "s03.pkl\n",
            "s04.pkl\n",
            "s05.pkl\n",
            "s06.pkl\n",
            "s07.pkl\n",
            "s08.pkl\n",
            "s09.pkl\n",
            "s10.pkl\n",
            "s11.pkl\n",
            "s12.pkl\n",
            "s13.pkl\n",
            "s14.pkl\n",
            "s15.pkl\n",
            "s16.pkl\n",
            "s17.pkl\n",
            "s18.pkl\n",
            "s19.pkl\n",
            "s20.pkl\n",
            "s21.pkl\n",
            "s22.pkl\n",
            "s23.pkl\n",
            "s24.pkl\n",
            "s25.pkl\n",
            "s26.pkl\n",
            "s27.pkl\n",
            "s28.pkl\n",
            "s29.pkl\n",
            "s30.pkl\n",
            "s31.pkl\n",
            "s32.pkl\n"
          ],
          "name": "stdout"
        }
      ]
    }
  ]
}